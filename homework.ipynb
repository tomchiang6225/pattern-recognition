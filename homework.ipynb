class Number:
    
    def __init__(self,x=0):
        self.x= x
        
    def add(self,y ,z):
        z= self.x + y - z
        return z
    
    def sub(self,y ,z):
        z= self.x - y + z
        return z
    
    def mul(self,y ,z):
        z= self.x * y / z
        return z
    
    def div(self,y, z):
        z= self.x / y * z
        return z

n= Number(100)
a= n.add(1, 8)
s= n.sub(1, 4)
m= n.mul(1, 5)
d= n.div(1, 2)
n, n.x, a, s, m, d
